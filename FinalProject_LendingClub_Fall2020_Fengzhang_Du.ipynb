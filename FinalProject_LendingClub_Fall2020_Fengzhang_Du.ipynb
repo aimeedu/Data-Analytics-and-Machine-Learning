{
 "cells": [
  {
   "cell_type": "markdown",
   "metadata": {},
   "source": [
    "# CS381/780 Data Analytics Final Project"
   ]
  },
  {
   "cell_type": "markdown",
   "metadata": {},
   "source": [
    "### Due on 12/9/2020 23:59 pm"
   ]
  },
  {
   "cell_type": "code",
   "execution_count": 1004,
   "metadata": {},
   "outputs": [],
   "source": [
    "import numpy as np\n",
    "import pandas as pd\n",
    "import matplotlib.pyplot as plt\n",
    "import seaborn as sns\n",
    "import warnings\n",
    "warnings.filterwarnings('ignore')\n",
    "from sklearn.model_selection import train_test_split\n",
    "from sklearn.linear_model import LinearRegression\n",
    "from sklearn.linear_model import LogisticRegression\n",
    "from sklearn import svm\n",
    "from sklearn.ensemble import RandomForestClassifier\n",
    "from sklearn.tree import DecisionTreeClassifier\n",
    "from sklearn.metrics import classification_report,confusion_matrix,accuracy_score"
   ]
  },
  {
   "cell_type": "markdown",
   "metadata": {},
   "source": [
    "### Dataset is based on data provided by LendingClub \n",
    "\n",
    "https://www.lendingclub.com\n",
    "    \n",
    "### The dataset was provided by Kaggle and contains information on loan borrowers \n",
    "collected by LendingClub from the year 2007 to 2010. \n"
   ]
  },
  {
   "cell_type": "markdown",
   "metadata": {},
   "source": [
    "\n",
    "Listing of attributes:\n",
    "    \n",
    "* credit.policy: a set of guidelines and criteria that decides on credit limits, credit terms, and how to go about delinquent accounts. The borrower either meets the criteria (represented by the integer 1 in our data) or does not (represented by 0 in our data).\n",
    "* purpose: purpose of the loan contracted (a.i: installment, debt consolidation)\n",
    "* int.rate: interest rate on the loan.\n",
    "* installment: monthly payment owed by the borrower.\n",
    "* log.annual.inc: natural logarithm of self-reported income.\n",
    "* dti: Debt-to-Income ratio\n",
    "* fico: FICO score of loan borrowers\n",
    "* days.with.cr.line: number of days with line of credit.\n",
    "* revol.bal: revolving balance or the portion of credit that remains unpaid after billing cycle.\n",
    "* revol.util: revolving utilization or debt-to-limit ratio, debt divided by credit limit.\n",
    "* inq.last.6mths: inquiries during last 6 months. Inquiries happen when a financial institution checks your credit to make a lending decision, this usually happens when you apply for credit. There are two types of inquiries: hard inquiries or ‘hard pulls’ when you apply for mortgage, credit card… and soft inquiries or ‘soft pulls’ for credit card offers or employment. For the purpose of this project, we will consider the data to represent ‘hard pulls’.\n",
    "* delinq.2yrs: number of loan delinquencies (30 days or more past due on a payment) reported during the past 2 years.\n",
    "* pub.rec: number of derogatory public records of loan borrowers.\n",
    "* not.fully.paid: this column shows whether a loan was not fully paid (1) or fully paid (0)"
   ]
  },
  {
   "cell_type": "markdown",
   "metadata": {},
   "source": [
    "### Your task in the final project is build the best predictive model to predict what type of borrower will be more likely to default (i.e not fully paid back their loan)"
   ]
  },
  {
   "cell_type": "markdown",
   "metadata": {},
   "source": [
    "* Use any one of the models (Logistic, SVM, Naive Bayes, Decision Tree and Random Forecast) that we have covered in class.\n",
    "* Do not use any models that we have not covered in class.\n",
    "*\n",
    "* The best performance model will have an extra 5 points, but the whole project will still be capped 100\n",
    "\n",
    "\n",
    "\n",
    "### Make sure your work include the following steps"
   ]
  },
  {
   "cell_type": "markdown",
   "metadata": {},
   "source": [
    "* EDA (chekcing missing values, removing outliers)\n",
    "* performed basic exploration of relationship, with plots and graphs\n",
    "* separated data set into training and testing\n",
    "* setup dummy variables to take care categorical variables\n",
    "* normalize numerical features if needed\n",
    "* tried at least two models and checked their model performance\n",
    "* performed cross-validations\n"
   ]
  },
  {
   "cell_type": "code",
   "execution_count": 1005,
   "metadata": {},
   "outputs": [
    {
     "data": {
      "text/html": [
       "<div>\n",
       "<style scoped>\n",
       "    .dataframe tbody tr th:only-of-type {\n",
       "        vertical-align: middle;\n",
       "    }\n",
       "\n",
       "    .dataframe tbody tr th {\n",
       "        vertical-align: top;\n",
       "    }\n",
       "\n",
       "    .dataframe thead th {\n",
       "        text-align: right;\n",
       "    }\n",
       "</style>\n",
       "<table border=\"1\" class=\"dataframe\">\n",
       "  <thead>\n",
       "    <tr style=\"text-align: right;\">\n",
       "      <th></th>\n",
       "      <th>credit.policy</th>\n",
       "      <th>purpose</th>\n",
       "      <th>int.rate</th>\n",
       "      <th>installment</th>\n",
       "      <th>log.annual.inc</th>\n",
       "      <th>dti</th>\n",
       "      <th>fico</th>\n",
       "      <th>days.with.cr.line</th>\n",
       "      <th>revol.bal</th>\n",
       "      <th>revol.util</th>\n",
       "      <th>inq.last.6mths</th>\n",
       "      <th>delinq.2yrs</th>\n",
       "      <th>pub.rec</th>\n",
       "      <th>not.fully.paid</th>\n",
       "    </tr>\n",
       "  </thead>\n",
       "  <tbody>\n",
       "    <tr>\n",
       "      <th>0</th>\n",
       "      <td>1</td>\n",
       "      <td>debt_consolidation</td>\n",
       "      <td>0.1189</td>\n",
       "      <td>829.10</td>\n",
       "      <td>11.350407</td>\n",
       "      <td>19.48</td>\n",
       "      <td>737</td>\n",
       "      <td>5639.958333</td>\n",
       "      <td>28854</td>\n",
       "      <td>52.1</td>\n",
       "      <td>0</td>\n",
       "      <td>0</td>\n",
       "      <td>0</td>\n",
       "      <td>0</td>\n",
       "    </tr>\n",
       "    <tr>\n",
       "      <th>1</th>\n",
       "      <td>1</td>\n",
       "      <td>credit_card</td>\n",
       "      <td>0.1071</td>\n",
       "      <td>228.22</td>\n",
       "      <td>11.082143</td>\n",
       "      <td>14.29</td>\n",
       "      <td>707</td>\n",
       "      <td>2760.000000</td>\n",
       "      <td>33623</td>\n",
       "      <td>76.7</td>\n",
       "      <td>0</td>\n",
       "      <td>0</td>\n",
       "      <td>0</td>\n",
       "      <td>0</td>\n",
       "    </tr>\n",
       "    <tr>\n",
       "      <th>2</th>\n",
       "      <td>1</td>\n",
       "      <td>debt_consolidation</td>\n",
       "      <td>0.1357</td>\n",
       "      <td>366.86</td>\n",
       "      <td>10.373491</td>\n",
       "      <td>11.63</td>\n",
       "      <td>682</td>\n",
       "      <td>4710.000000</td>\n",
       "      <td>3511</td>\n",
       "      <td>25.6</td>\n",
       "      <td>1</td>\n",
       "      <td>0</td>\n",
       "      <td>0</td>\n",
       "      <td>0</td>\n",
       "    </tr>\n",
       "    <tr>\n",
       "      <th>3</th>\n",
       "      <td>1</td>\n",
       "      <td>debt_consolidation</td>\n",
       "      <td>0.1008</td>\n",
       "      <td>162.34</td>\n",
       "      <td>11.350407</td>\n",
       "      <td>8.10</td>\n",
       "      <td>712</td>\n",
       "      <td>2699.958333</td>\n",
       "      <td>33667</td>\n",
       "      <td>73.2</td>\n",
       "      <td>1</td>\n",
       "      <td>0</td>\n",
       "      <td>0</td>\n",
       "      <td>0</td>\n",
       "    </tr>\n",
       "    <tr>\n",
       "      <th>4</th>\n",
       "      <td>1</td>\n",
       "      <td>credit_card</td>\n",
       "      <td>0.1426</td>\n",
       "      <td>102.92</td>\n",
       "      <td>11.299732</td>\n",
       "      <td>14.97</td>\n",
       "      <td>667</td>\n",
       "      <td>4066.000000</td>\n",
       "      <td>4740</td>\n",
       "      <td>39.5</td>\n",
       "      <td>0</td>\n",
       "      <td>1</td>\n",
       "      <td>0</td>\n",
       "      <td>0</td>\n",
       "    </tr>\n",
       "  </tbody>\n",
       "</table>\n",
       "</div>"
      ],
      "text/plain": [
       "   credit.policy             purpose  int.rate  installment  log.annual.inc  \\\n",
       "0              1  debt_consolidation    0.1189       829.10       11.350407   \n",
       "1              1         credit_card    0.1071       228.22       11.082143   \n",
       "2              1  debt_consolidation    0.1357       366.86       10.373491   \n",
       "3              1  debt_consolidation    0.1008       162.34       11.350407   \n",
       "4              1         credit_card    0.1426       102.92       11.299732   \n",
       "\n",
       "     dti  fico  days.with.cr.line  revol.bal  revol.util  inq.last.6mths  \\\n",
       "0  19.48   737        5639.958333      28854        52.1               0   \n",
       "1  14.29   707        2760.000000      33623        76.7               0   \n",
       "2  11.63   682        4710.000000       3511        25.6               1   \n",
       "3   8.10   712        2699.958333      33667        73.2               1   \n",
       "4  14.97   667        4066.000000       4740        39.5               0   \n",
       "\n",
       "   delinq.2yrs  pub.rec  not.fully.paid  \n",
       "0            0        0               0  \n",
       "1            0        0               0  \n",
       "2            0        0               0  \n",
       "3            0        0               0  \n",
       "4            1        0               0  "
      ]
     },
     "execution_count": 1005,
     "metadata": {},
     "output_type": "execute_result"
    }
   ],
   "source": [
    "df = pd.read_csv(\"lendingclub_loan_data.csv\")\n",
    "df.head()"
   ]
  },
  {
   "cell_type": "code",
   "execution_count": 1006,
   "metadata": {},
   "outputs": [
    {
     "data": {
      "text/plain": [
       "<matplotlib.axes._subplots.AxesSubplot at 0x7ff904890ca0>"
      ]
     },
     "execution_count": 1006,
     "metadata": {},
     "output_type": "execute_result"
    },
    {
     "data": {
      "image/png": "[encoded data removed]",
      "text/plain": [
       "<Figure size 432x288 with 1 Axes>"
      ]
     },
     "metadata": {
      "needs_background": "light"
     },
     "output_type": "display_data"
    }
   ],
   "source": [
    "sns.countplot(df['not.fully.paid'], palette='rainbow')"
   ]
  },
  {
   "cell_type": "markdown",
   "metadata": {},
   "source": [
    "# EDA \n",
    "* chekcing missing values\n",
    "* removing outliers"
   ]
  },
  {
   "cell_type": "code",
   "execution_count": 1007,
   "metadata": {},
   "outputs": [
    {
     "data": {
      "text/plain": [
       "(9581, 14)"
      ]
     },
     "execution_count": 1007,
     "metadata": {},
     "output_type": "execute_result"
    }
   ],
   "source": [
    "df.shape"
   ]
  },
  {
   "cell_type": "code",
   "execution_count": 1008,
   "metadata": {},
   "outputs": [
    {
     "data": {
      "text/plain": [
       "credit.policy        0\n",
       "purpose              0\n",
       "int.rate             0\n",
       "installment          1\n",
       "log.annual.inc       1\n",
       "dti                  0\n",
       "fico                 0\n",
       "days.with.cr.line    0\n",
       "revol.bal            0\n",
       "revol.util           0\n",
       "inq.last.6mths       0\n",
       "delinq.2yrs          0\n",
       "pub.rec              0\n",
       "not.fully.paid       0\n",
       "dtype: int64"
      ]
     },
     "execution_count": 1008,
     "metadata": {},
     "output_type": "execute_result"
    }
   ],
   "source": [
    "df.isnull().sum()\n",
    "# we have missing data at installment and log.annual.inc"
   ]
  },
  {
   "cell_type": "code",
   "execution_count": 1009,
   "metadata": {},
   "outputs": [
    {
     "data": {
      "text/html": [
       "<div>\n",
       "<style scoped>\n",
       "    .dataframe tbody tr th:only-of-type {\n",
       "        vertical-align: middle;\n",
       "    }\n",
       "\n",
       "    .dataframe tbody tr th {\n",
       "        vertical-align: top;\n",
       "    }\n",
       "\n",
       "    .dataframe thead th {\n",
       "        text-align: right;\n",
       "    }\n",
       "</style>\n",
       "<table border=\"1\" class=\"dataframe\">\n",
       "  <thead>\n",
       "    <tr style=\"text-align: right;\">\n",
       "      <th></th>\n",
       "      <th>credit.policy</th>\n",
       "      <th>purpose</th>\n",
       "      <th>int.rate</th>\n",
       "      <th>installment</th>\n",
       "      <th>log.annual.inc</th>\n",
       "      <th>dti</th>\n",
       "      <th>fico</th>\n",
       "      <th>days.with.cr.line</th>\n",
       "      <th>revol.bal</th>\n",
       "      <th>revol.util</th>\n",
       "      <th>inq.last.6mths</th>\n",
       "      <th>delinq.2yrs</th>\n",
       "      <th>pub.rec</th>\n",
       "      <th>not.fully.paid</th>\n",
       "    </tr>\n",
       "  </thead>\n",
       "  <tbody>\n",
       "    <tr>\n",
       "      <th>14</th>\n",
       "      <td>1</td>\n",
       "      <td>debt_consolidation</td>\n",
       "      <td>0.1324</td>\n",
       "      <td>NaN</td>\n",
       "      <td>NaN</td>\n",
       "      <td>9.16</td>\n",
       "      <td>666</td>\n",
       "      <td>4298.0</td>\n",
       "      <td>5122</td>\n",
       "      <td>18.2</td>\n",
       "      <td>2</td>\n",
       "      <td>1</td>\n",
       "      <td>0</td>\n",
       "      <td>0</td>\n",
       "    </tr>\n",
       "  </tbody>\n",
       "</table>\n",
       "</div>"
      ],
      "text/plain": [
       "    credit.policy             purpose  int.rate  installment  log.annual.inc  \\\n",
       "14              1  debt_consolidation    0.1324          NaN             NaN   \n",
       "\n",
       "     dti  fico  days.with.cr.line  revol.bal  revol.util  inq.last.6mths  \\\n",
       "14  9.16   666             4298.0       5122        18.2               2   \n",
       "\n",
       "    delinq.2yrs  pub.rec  not.fully.paid  \n",
       "14            1        0               0  "
      ]
     },
     "execution_count": 1009,
     "metadata": {},
     "output_type": "execute_result"
    }
   ],
   "source": [
    "df[df['log.annual.inc'].isnull()]"
   ]
  },
  {
   "cell_type": "code",
   "execution_count": 1010,
   "metadata": {},
   "outputs": [
    {
     "data": {
      "text/html": [
       "<div>\n",
       "<style scoped>\n",
       "    .dataframe tbody tr th:only-of-type {\n",
       "        vertical-align: middle;\n",
       "    }\n",
       "\n",
       "    .dataframe tbody tr th {\n",
       "        vertical-align: top;\n",
       "    }\n",
       "\n",
       "    .dataframe thead th {\n",
       "        text-align: right;\n",
       "    }\n",
       "</style>\n",
       "<table border=\"1\" class=\"dataframe\">\n",
       "  <thead>\n",
       "    <tr style=\"text-align: right;\">\n",
       "      <th></th>\n",
       "      <th>credit.policy</th>\n",
       "      <th>purpose</th>\n",
       "      <th>int.rate</th>\n",
       "      <th>installment</th>\n",
       "      <th>log.annual.inc</th>\n",
       "      <th>dti</th>\n",
       "      <th>fico</th>\n",
       "      <th>days.with.cr.line</th>\n",
       "      <th>revol.bal</th>\n",
       "      <th>revol.util</th>\n",
       "      <th>inq.last.6mths</th>\n",
       "      <th>delinq.2yrs</th>\n",
       "      <th>pub.rec</th>\n",
       "      <th>not.fully.paid</th>\n",
       "    </tr>\n",
       "  </thead>\n",
       "  <tbody>\n",
       "    <tr>\n",
       "      <th>14</th>\n",
       "      <td>1</td>\n",
       "      <td>debt_consolidation</td>\n",
       "      <td>0.1324</td>\n",
       "      <td>NaN</td>\n",
       "      <td>NaN</td>\n",
       "      <td>9.16</td>\n",
       "      <td>666</td>\n",
       "      <td>4298.0</td>\n",
       "      <td>5122</td>\n",
       "      <td>18.2</td>\n",
       "      <td>2</td>\n",
       "      <td>1</td>\n",
       "      <td>0</td>\n",
       "      <td>0</td>\n",
       "    </tr>\n",
       "  </tbody>\n",
       "</table>\n",
       "</div>"
      ],
      "text/plain": [
       "    credit.policy             purpose  int.rate  installment  log.annual.inc  \\\n",
       "14              1  debt_consolidation    0.1324          NaN             NaN   \n",
       "\n",
       "     dti  fico  days.with.cr.line  revol.bal  revol.util  inq.last.6mths  \\\n",
       "14  9.16   666             4298.0       5122        18.2               2   \n",
       "\n",
       "    delinq.2yrs  pub.rec  not.fully.paid  \n",
       "14            1        0               0  "
      ]
     },
     "execution_count": 1010,
     "metadata": {},
     "output_type": "execute_result"
    }
   ],
   "source": [
    "df[df.installment.isnull()]"
   ]
  },
  {
   "cell_type": "code",
   "execution_count": 1011,
   "metadata": {},
   "outputs": [],
   "source": [
    "df.dropna(inplace=True)"
   ]
  },
  {
   "cell_type": "code",
   "execution_count": 1012,
   "metadata": {},
   "outputs": [
    {
     "data": {
      "text/plain": [
       "(9580, 14)"
      ]
     },
     "execution_count": 1012,
     "metadata": {},
     "output_type": "execute_result"
    }
   ],
   "source": [
    "df.shape"
   ]
  },
  {
   "cell_type": "markdown",
   "metadata": {},
   "source": [
    "# Performed basic exploration of relationship, with plots and graphs\n"
   ]
  },
  {
   "cell_type": "code",
   "execution_count": 1013,
   "metadata": {},
   "outputs": [
    {
     "data": {
      "text/html": [
       "<div>\n",
       "<style scoped>\n",
       "    .dataframe tbody tr th:only-of-type {\n",
       "        vertical-align: middle;\n",
       "    }\n",
       "\n",
       "    .dataframe tbody tr th {\n",
       "        vertical-align: top;\n",
       "    }\n",
       "\n",
       "    .dataframe thead th {\n",
       "        text-align: right;\n",
       "    }\n",
       "</style>\n",
       "<table border=\"1\" class=\"dataframe\">\n",
       "  <thead>\n",
       "    <tr style=\"text-align: right;\">\n",
       "      <th></th>\n",
       "      <th>credit.policy</th>\n",
       "      <th>int.rate</th>\n",
       "      <th>installment</th>\n",
       "      <th>log.annual.inc</th>\n",
       "      <th>dti</th>\n",
       "      <th>fico</th>\n",
       "      <th>days.with.cr.line</th>\n",
       "      <th>revol.bal</th>\n",
       "      <th>revol.util</th>\n",
       "      <th>inq.last.6mths</th>\n",
       "      <th>delinq.2yrs</th>\n",
       "      <th>pub.rec</th>\n",
       "    </tr>\n",
       "    <tr>\n",
       "      <th>not.fully.paid</th>\n",
       "      <th></th>\n",
       "      <th></th>\n",
       "      <th></th>\n",
       "      <th></th>\n",
       "      <th></th>\n",
       "      <th></th>\n",
       "      <th></th>\n",
       "      <th></th>\n",
       "      <th></th>\n",
       "      <th></th>\n",
       "      <th></th>\n",
       "      <th></th>\n",
       "    </tr>\n",
       "  </thead>\n",
       "  <tbody>\n",
       "    <tr>\n",
       "      <th>0</th>\n",
       "      <td>0.832360</td>\n",
       "      <td>0.120773</td>\n",
       "      <td>314.558964</td>\n",
       "      <td>10.941313</td>\n",
       "      <td>12.493584</td>\n",
       "      <td>713.279980</td>\n",
       "      <td>4592.559396</td>\n",
       "      <td>16119.990307</td>\n",
       "      <td>45.752759</td>\n",
       "      <td>1.434075</td>\n",
       "      <td>0.161799</td>\n",
       "      <td>0.056543</td>\n",
       "    </tr>\n",
       "    <tr>\n",
       "      <th>1</th>\n",
       "      <td>0.661448</td>\n",
       "      <td>0.132452</td>\n",
       "      <td>342.785114</td>\n",
       "      <td>10.885023</td>\n",
       "      <td>13.195838</td>\n",
       "      <td>697.828441</td>\n",
       "      <td>4393.541259</td>\n",
       "      <td>21066.293542</td>\n",
       "      <td>52.255075</td>\n",
       "      <td>2.330724</td>\n",
       "      <td>0.174821</td>\n",
       "      <td>0.091324</td>\n",
       "    </tr>\n",
       "  </tbody>\n",
       "</table>\n",
       "</div>"
      ],
      "text/plain": [
       "                credit.policy  int.rate  installment  log.annual.inc  \\\n",
       "not.fully.paid                                                         \n",
       "0                    0.832360  0.120773   314.558964       10.941313   \n",
       "1                    0.661448  0.132452   342.785114       10.885023   \n",
       "\n",
       "                      dti        fico  days.with.cr.line     revol.bal  \\\n",
       "not.fully.paid                                                           \n",
       "0               12.493584  713.279980        4592.559396  16119.990307   \n",
       "1               13.195838  697.828441        4393.541259  21066.293542   \n",
       "\n",
       "                revol.util  inq.last.6mths  delinq.2yrs   pub.rec  \n",
       "not.fully.paid                                                     \n",
       "0                45.752759        1.434075     0.161799  0.056543  \n",
       "1                52.255075        2.330724     0.174821  0.091324  "
      ]
     },
     "execution_count": 1013,
     "metadata": {},
     "output_type": "execute_result"
    }
   ],
   "source": [
    "# overall\n",
    "df.groupby('not.fully.paid').mean()"
   ]
  },
  {
   "cell_type": "code",
   "execution_count": 1014,
   "metadata": {},
   "outputs": [
    {
     "data": {
      "text/plain": [
       "array([1, 0])"
      ]
     },
     "execution_count": 1014,
     "metadata": {},
     "output_type": "execute_result"
    }
   ],
   "source": [
    "df[\"credit.policy\"].unique()"
   ]
  },
  {
   "cell_type": "code",
   "execution_count": 1015,
   "metadata": {},
   "outputs": [
    {
     "data": {
      "text/plain": [
       "array([ 0,  1,  2,  4,  3,  5,  6, 13,  7,  8, 11])"
      ]
     },
     "execution_count": 1015,
     "metadata": {},
     "output_type": "execute_result"
    }
   ],
   "source": [
    "df[\"delinq.2yrs\"].unique() # integer values, the higher the worse."
   ]
  },
  {
   "cell_type": "code",
   "execution_count": 1016,
   "metadata": {},
   "outputs": [
    {
     "data": {
      "text/plain": [
       "array([0, 1, 2, 3, 4, 5])"
      ]
     },
     "execution_count": 1016,
     "metadata": {},
     "output_type": "execute_result"
    }
   ],
   "source": [
    "df[\"pub.rec\"].unique() # integer values, the higher the worse."
   ]
  },
  {
   "cell_type": "markdown",
   "metadata": {},
   "source": [
    "## Observations\n",
    "### The (1) case represent not fully paid. let's see what features they have compare to the (0) case.\n",
    "* #### credit.policy: the number is smaller means there are more 0 count towards the total -> (the borrower are not qualified tends to default.) \n",
    "* #### int.rate: they tends to have higher interest rate\n",
    "* #### installment: monthly payment owed by the borrower. they owed more.\n",
    "* #### log.annual.inc: lower self-reported income.\n",
    "* #### dti: higher Debt-to-Income ratio\n",
    "* #### fico: lower FICO score of loan borrowers\n",
    "* #### days.with.cr.line: less number of days with line of credit. less time to pay back.\n",
    "* #### revol.bal: high revolving balance -> the portion of credit that remains unpaid after billing cycle. not good!\n",
    "* #### revol.util: high revolving utilization -> debt-to-limit ratio, debt divided by credit limit.\n",
    "* #### inq.last.6mths: try to get more money. ( bad cashflow! ) -> number of ‘hard pulls’ during last 6 months.\n",
    "* #### delinq.2yrs: higher number of loan delinquencies (30 days or more past due on a payment) reported during the past 2 years.\n",
    "* #### pub.rec: higher number of derogatory public records of loan borrowers."
   ]
  },
  {
   "cell_type": "code",
   "execution_count": 1017,
   "metadata": {},
   "outputs": [
    {
     "data": {
      "text/plain": [
       "array(['debt_consolidation', 'credit_card', 'all_other',\n",
       "       'home_improvement', 'small_business', 'major_purchase',\n",
       "       'educational'], dtype=object)"
      ]
     },
     "execution_count": 1017,
     "metadata": {},
     "output_type": "execute_result"
    }
   ],
   "source": [
    "df.purpose.unique()"
   ]
  },
  {
   "cell_type": "code",
   "execution_count": 1018,
   "metadata": {
    "scrolled": false
   },
   "outputs": [
    {
     "data": {
      "text/plain": [
       "<seaborn.axisgrid.FacetGrid at 0x7ff9048c7f40>"
      ]
     },
     "execution_count": 1018,
     "metadata": {},
     "output_type": "execute_result"
    },
    {
     "data": {
      "image/png": "[encoded data removed]",
      "text/plain": [
       "<Figure size 936.625x432 with 1 Axes>"
      ]
     },
     "metadata": {
      "needs_background": "light"
     },
     "output_type": "display_data"
    }
   ],
   "source": [
    "sns.factorplot('purpose', data=df, palette='rainbow', hue='not.fully.paid', kind='count',size=6, aspect=2)"
   ]
  },
  {
   "cell_type": "code",
   "execution_count": 1019,
   "metadata": {},
   "outputs": [
    {
     "data": {
      "text/html": [
       "<div>\n",
       "<style scoped>\n",
       "    .dataframe tbody tr th:only-of-type {\n",
       "        vertical-align: middle;\n",
       "    }\n",
       "\n",
       "    .dataframe tbody tr th {\n",
       "        vertical-align: top;\n",
       "    }\n",
       "\n",
       "    .dataframe thead th {\n",
       "        text-align: right;\n",
       "    }\n",
       "</style>\n",
       "<table border=\"1\" class=\"dataframe\">\n",
       "  <thead>\n",
       "    <tr style=\"text-align: right;\">\n",
       "      <th></th>\n",
       "      <th>credit.policy</th>\n",
       "      <th>int.rate</th>\n",
       "      <th>installment</th>\n",
       "      <th>log.annual.inc</th>\n",
       "      <th>dti</th>\n",
       "      <th>fico</th>\n",
       "      <th>days.with.cr.line</th>\n",
       "      <th>revol.bal</th>\n",
       "      <th>revol.util</th>\n",
       "      <th>inq.last.6mths</th>\n",
       "      <th>delinq.2yrs</th>\n",
       "      <th>pub.rec</th>\n",
       "      <th>not.fully.paid</th>\n",
       "    </tr>\n",
       "  </thead>\n",
       "  <tbody>\n",
       "    <tr>\n",
       "      <th>credit.policy</th>\n",
       "      <td>1.000000</td>\n",
       "      <td>-0.294040</td>\n",
       "      <td>0.058735</td>\n",
       "      <td>0.035048</td>\n",
       "      <td>-0.090947</td>\n",
       "      <td>0.341439</td>\n",
       "      <td>0.099013</td>\n",
       "      <td>-0.187547</td>\n",
       "      <td>-0.104183</td>\n",
       "      <td>-0.535476</td>\n",
       "      <td>-0.076141</td>\n",
       "      <td>-0.054266</td>\n",
       "      <td>-0.158157</td>\n",
       "    </tr>\n",
       "    <tr>\n",
       "      <th>int.rate</th>\n",
       "      <td>-0.294040</td>\n",
       "      <td>1.000000</td>\n",
       "      <td>0.276109</td>\n",
       "      <td>0.056481</td>\n",
       "      <td>0.219959</td>\n",
       "      <td>-0.702092</td>\n",
       "      <td>-0.124028</td>\n",
       "      <td>0.092498</td>\n",
       "      <td>0.464709</td>\n",
       "      <td>0.202791</td>\n",
       "      <td>0.156155</td>\n",
       "      <td>0.098142</td>\n",
       "      <td>0.159513</td>\n",
       "    </tr>\n",
       "    <tr>\n",
       "      <th>installment</th>\n",
       "      <td>0.058735</td>\n",
       "      <td>0.276109</td>\n",
       "      <td>1.000000</td>\n",
       "      <td>0.447900</td>\n",
       "      <td>0.050233</td>\n",
       "      <td>0.084782</td>\n",
       "      <td>0.183302</td>\n",
       "      <td>0.233643</td>\n",
       "      <td>0.081412</td>\n",
       "      <td>-0.010431</td>\n",
       "      <td>-0.004468</td>\n",
       "      <td>-0.032743</td>\n",
       "      <td>0.049982</td>\n",
       "    </tr>\n",
       "    <tr>\n",
       "      <th>log.annual.inc</th>\n",
       "      <td>0.035048</td>\n",
       "      <td>0.056481</td>\n",
       "      <td>0.447900</td>\n",
       "      <td>1.000000</td>\n",
       "      <td>-0.054205</td>\n",
       "      <td>0.110976</td>\n",
       "      <td>0.336788</td>\n",
       "      <td>0.371944</td>\n",
       "      <td>0.054561</td>\n",
       "      <td>0.029223</td>\n",
       "      <td>0.029659</td>\n",
       "      <td>0.016430</td>\n",
       "      <td>-0.033565</td>\n",
       "    </tr>\n",
       "    <tr>\n",
       "      <th>dti</th>\n",
       "      <td>-0.090947</td>\n",
       "      <td>0.219959</td>\n",
       "      <td>0.050233</td>\n",
       "      <td>-0.054205</td>\n",
       "      <td>1.000000</td>\n",
       "      <td>-0.236266</td>\n",
       "      <td>0.060110</td>\n",
       "      <td>0.188777</td>\n",
       "      <td>0.337169</td>\n",
       "      <td>0.029168</td>\n",
       "      <td>-0.021946</td>\n",
       "      <td>0.006233</td>\n",
       "      <td>0.037405</td>\n",
       "    </tr>\n",
       "    <tr>\n",
       "      <th>fico</th>\n",
       "      <td>0.341439</td>\n",
       "      <td>-0.702092</td>\n",
       "      <td>0.084782</td>\n",
       "      <td>0.110976</td>\n",
       "      <td>-0.236266</td>\n",
       "      <td>1.000000</td>\n",
       "      <td>0.259155</td>\n",
       "      <td>-0.014916</td>\n",
       "      <td>-0.530336</td>\n",
       "      <td>-0.182094</td>\n",
       "      <td>-0.213867</td>\n",
       "      <td>-0.144651</td>\n",
       "      <td>-0.146485</td>\n",
       "    </tr>\n",
       "    <tr>\n",
       "      <th>days.with.cr.line</th>\n",
       "      <td>0.099013</td>\n",
       "      <td>-0.124028</td>\n",
       "      <td>0.183302</td>\n",
       "      <td>0.336788</td>\n",
       "      <td>0.060110</td>\n",
       "      <td>0.259155</td>\n",
       "      <td>1.000000</td>\n",
       "      <td>0.229349</td>\n",
       "      <td>-0.024215</td>\n",
       "      <td>-0.041740</td>\n",
       "      <td>0.081320</td>\n",
       "      <td>0.071831</td>\n",
       "      <td>-0.029226</td>\n",
       "    </tr>\n",
       "    <tr>\n",
       "      <th>revol.bal</th>\n",
       "      <td>-0.187547</td>\n",
       "      <td>0.092498</td>\n",
       "      <td>0.233643</td>\n",
       "      <td>0.371944</td>\n",
       "      <td>0.188777</td>\n",
       "      <td>-0.014916</td>\n",
       "      <td>0.229349</td>\n",
       "      <td>1.000000</td>\n",
       "      <td>0.203828</td>\n",
       "      <td>0.022380</td>\n",
       "      <td>-0.033346</td>\n",
       "      <td>-0.030992</td>\n",
       "      <td>0.053729</td>\n",
       "    </tr>\n",
       "    <tr>\n",
       "      <th>revol.util</th>\n",
       "      <td>-0.104183</td>\n",
       "      <td>0.464709</td>\n",
       "      <td>0.081412</td>\n",
       "      <td>0.054561</td>\n",
       "      <td>0.337169</td>\n",
       "      <td>-0.530336</td>\n",
       "      <td>-0.024215</td>\n",
       "      <td>0.203828</td>\n",
       "      <td>1.000000</td>\n",
       "      <td>-0.013918</td>\n",
       "      <td>-0.043040</td>\n",
       "      <td>0.066758</td>\n",
       "      <td>0.082168</td>\n",
       "    </tr>\n",
       "    <tr>\n",
       "      <th>inq.last.6mths</th>\n",
       "      <td>-0.535476</td>\n",
       "      <td>0.202791</td>\n",
       "      <td>-0.010431</td>\n",
       "      <td>0.029223</td>\n",
       "      <td>0.029168</td>\n",
       "      <td>-0.182094</td>\n",
       "      <td>-0.041740</td>\n",
       "      <td>0.022380</td>\n",
       "      <td>-0.013918</td>\n",
       "      <td>1.000000</td>\n",
       "      <td>0.021301</td>\n",
       "      <td>0.072663</td>\n",
       "      <td>0.149431</td>\n",
       "    </tr>\n",
       "    <tr>\n",
       "      <th>delinq.2yrs</th>\n",
       "      <td>-0.076141</td>\n",
       "      <td>0.156155</td>\n",
       "      <td>-0.004468</td>\n",
       "      <td>0.029659</td>\n",
       "      <td>-0.021946</td>\n",
       "      <td>-0.213867</td>\n",
       "      <td>0.081320</td>\n",
       "      <td>-0.033346</td>\n",
       "      <td>-0.043040</td>\n",
       "      <td>0.021301</td>\n",
       "      <td>1.000000</td>\n",
       "      <td>0.009106</td>\n",
       "      <td>0.008739</td>\n",
       "    </tr>\n",
       "    <tr>\n",
       "      <th>pub.rec</th>\n",
       "      <td>-0.054266</td>\n",
       "      <td>0.098142</td>\n",
       "      <td>-0.032743</td>\n",
       "      <td>0.016430</td>\n",
       "      <td>0.006233</td>\n",
       "      <td>-0.144651</td>\n",
       "      <td>0.071831</td>\n",
       "      <td>-0.030992</td>\n",
       "      <td>0.066758</td>\n",
       "      <td>0.072663</td>\n",
       "      <td>0.009106</td>\n",
       "      <td>1.000000</td>\n",
       "      <td>0.048655</td>\n",
       "    </tr>\n",
       "    <tr>\n",
       "      <th>not.fully.paid</th>\n",
       "      <td>-0.158157</td>\n",
       "      <td>0.159513</td>\n",
       "      <td>0.049982</td>\n",
       "      <td>-0.033565</td>\n",
       "      <td>0.037405</td>\n",
       "      <td>-0.146485</td>\n",
       "      <td>-0.029226</td>\n",
       "      <td>0.053729</td>\n",
       "      <td>0.082168</td>\n",
       "      <td>0.149431</td>\n",
       "      <td>0.008739</td>\n",
       "      <td>0.048655</td>\n",
       "      <td>1.000000</td>\n",
       "    </tr>\n",
       "  </tbody>\n",
       "</table>\n",
       "</div>"
      ],
      "text/plain": [
       "                   credit.policy  int.rate  installment  log.annual.inc  \\\n",
       "credit.policy           1.000000 -0.294040     0.058735        0.035048   \n",
       "int.rate               -0.294040  1.000000     0.276109        0.056481   \n",
       "installment             0.058735  0.276109     1.000000        0.447900   \n",
       "log.annual.inc          0.035048  0.056481     0.447900        1.000000   \n",
       "dti                    -0.090947  0.219959     0.050233       -0.054205   \n",
       "fico                    0.341439 -0.702092     0.084782        0.110976   \n",
       "days.with.cr.line       0.099013 -0.124028     0.183302        0.336788   \n",
       "revol.bal              -0.187547  0.092498     0.233643        0.371944   \n",
       "revol.util             -0.104183  0.464709     0.081412        0.054561   \n",
       "inq.last.6mths         -0.535476  0.202791    -0.010431        0.029223   \n",
       "delinq.2yrs            -0.076141  0.156155    -0.004468        0.029659   \n",
       "pub.rec                -0.054266  0.098142    -0.032743        0.016430   \n",
       "not.fully.paid         -0.158157  0.159513     0.049982       -0.033565   \n",
       "\n",
       "                        dti      fico  days.with.cr.line  revol.bal  \\\n",
       "credit.policy     -0.090947  0.341439           0.099013  -0.187547   \n",
       "int.rate           0.219959 -0.702092          -0.124028   0.092498   \n",
       "installment        0.050233  0.084782           0.183302   0.233643   \n",
       "log.annual.inc    -0.054205  0.110976           0.336788   0.371944   \n",
       "dti                1.000000 -0.236266           0.060110   0.188777   \n",
       "fico              -0.236266  1.000000           0.259155  -0.014916   \n",
       "days.with.cr.line  0.060110  0.259155           1.000000   0.229349   \n",
       "revol.bal          0.188777 -0.014916           0.229349   1.000000   \n",
       "revol.util         0.337169 -0.530336          -0.024215   0.203828   \n",
       "inq.last.6mths     0.029168 -0.182094          -0.041740   0.022380   \n",
       "delinq.2yrs       -0.021946 -0.213867           0.081320  -0.033346   \n",
       "pub.rec            0.006233 -0.144651           0.071831  -0.030992   \n",
       "not.fully.paid     0.037405 -0.146485          -0.029226   0.053729   \n",
       "\n",
       "                   revol.util  inq.last.6mths  delinq.2yrs   pub.rec  \\\n",
       "credit.policy       -0.104183       -0.535476    -0.076141 -0.054266   \n",
       "int.rate             0.464709        0.202791     0.156155  0.098142   \n",
       "installment          0.081412       -0.010431    -0.004468 -0.032743   \n",
       "log.annual.inc       0.054561        0.029223     0.029659  0.016430   \n",
       "dti                  0.337169        0.029168    -0.021946  0.006233   \n",
       "fico                -0.530336       -0.182094    -0.213867 -0.144651   \n",
       "days.with.cr.line   -0.024215       -0.041740     0.081320  0.071831   \n",
       "revol.bal            0.203828        0.022380    -0.033346 -0.030992   \n",
       "revol.util           1.000000       -0.013918    -0.043040  0.066758   \n",
       "inq.last.6mths      -0.013918        1.000000     0.021301  0.072663   \n",
       "delinq.2yrs         -0.043040        0.021301     1.000000  0.009106   \n",
       "pub.rec              0.066758        0.072663     0.009106  1.000000   \n",
       "not.fully.paid       0.082168        0.149431     0.008739  0.048655   \n",
       "\n",
       "                   not.fully.paid  \n",
       "credit.policy           -0.158157  \n",
       "int.rate                 0.159513  \n",
       "installment              0.049982  \n",
       "log.annual.inc          -0.033565  \n",
       "dti                      0.037405  \n",
       "fico                    -0.146485  \n",
       "days.with.cr.line       -0.029226  \n",
       "revol.bal                0.053729  \n",
       "revol.util               0.082168  \n",
       "inq.last.6mths           0.149431  \n",
       "delinq.2yrs              0.008739  \n",
       "pub.rec                  0.048655  \n",
       "not.fully.paid           1.000000  "
      ]
     },
     "execution_count": 1019,
     "metadata": {},
     "output_type": "execute_result"
    }
   ],
   "source": [
    "df.corr()"
   ]
  },
  {
   "cell_type": "code",
   "execution_count": 1020,
   "metadata": {},
   "outputs": [
    {
     "name": "stdout",
     "output_type": "stream",
     "text": [
      "0.12264209812108438\n",
      "0.1221\n"
     ]
    },
    {
     "data": {
      "image/png": "[encoded data removed]",
      "text/plain": [
       "<Figure size 1080x504 with 1 Axes>"
      ]
     },
     "metadata": {
      "needs_background": "light"
     },
     "output_type": "display_data"
    }
   ],
   "source": [
    "plt.figure(figsize=(15, 7))\n",
    "sns.boxplot(x='purpose',y='int.rate', data=df, palette='coolwarm', hue='not.fully.paid')\n",
    "# small businesses have higher chances to default. the more risky, the higher the interests rate they would have.\n",
    "# high interest rate in the group of small_business tends to get 1 label, not fully paid.\n",
    "# int.rate outlier really depends on categories. not remove for now, because it's the real data. less sample doesn't mean it's wrong.\n",
    "# purpose is an important feature.\n",
    "var='int.rate'\n",
    "print(df[var].mean())\n",
    "print(df[var].median())"
   ]
  },
  {
   "cell_type": "code",
   "execution_count": 1021,
   "metadata": {},
   "outputs": [
    {
     "data": {
      "text/plain": [
       "<matplotlib.axes._subplots.AxesSubplot at 0x7ff9072f4850>"
      ]
     },
     "execution_count": 1021,
     "metadata": {},
     "output_type": "execute_result"
    },
    {
     "data": {
      "image/png": "[encoded data removed]",
      "text/plain": [
       "<Figure size 1080x504 with 1 Axes>"
      ]
     },
     "metadata": {
      "needs_background": "light"
     },
     "output_type": "display_data"
    }
   ],
   "source": [
    "# installment: range varys on categories.\n",
    "plt.figure(figsize=(15, 7))\n",
    "sns.boxplot(x='purpose', y='installment',data=df,palette='rainbow')\n"
   ]
  },
  {
   "cell_type": "code",
   "execution_count": 1023,
   "metadata": {},
   "outputs": [
    {
     "name": "stdout",
     "output_type": "stream",
     "text": [
      "10.932305632961366\n",
      "10.929887445\n"
     ]
    },
    {
     "data": {
      "image/png": "[encoded data removed]",
      "text/plain": [
       "<Figure size 1080x504 with 1 Axes>"
      ]
     },
     "metadata": {
      "needs_background": "light"
     },
     "output_type": "display_data"
    }
   ],
   "source": [
    "# log.annual.inc\n",
    "plt.figure(figsize=(15, 7))\n",
    "sns.boxplot(x='purpose', y='log.annual.inc',data=df,palette='rainbow')\n",
    "var='log.annual.inc'\n",
    "print(df[var].mean())\n",
    "print(df[var].median())\n",
    "# don't remove outliers, incomes can be vary. higher and lower income can be real. not enough sample."
   ]
  },
  {
   "cell_type": "code",
   "execution_count": 1024,
   "metadata": {},
   "outputs": [
    {
     "data": {
      "text/html": [
       "<div>\n",
       "<style scoped>\n",
       "    .dataframe tbody tr th:only-of-type {\n",
       "        vertical-align: middle;\n",
       "    }\n",
       "\n",
       "    .dataframe tbody tr th {\n",
       "        vertical-align: top;\n",
       "    }\n",
       "\n",
       "    .dataframe thead th {\n",
       "        text-align: right;\n",
       "    }\n",
       "</style>\n",
       "<table border=\"1\" class=\"dataframe\">\n",
       "  <thead>\n",
       "    <tr style=\"text-align: right;\">\n",
       "      <th></th>\n",
       "      <th>credit.policy</th>\n",
       "      <th>purpose</th>\n",
       "      <th>int.rate</th>\n",
       "      <th>installment</th>\n",
       "      <th>log.annual.inc</th>\n",
       "      <th>dti</th>\n",
       "      <th>fico</th>\n",
       "      <th>days.with.cr.line</th>\n",
       "      <th>revol.bal</th>\n",
       "      <th>revol.util</th>\n",
       "      <th>inq.last.6mths</th>\n",
       "      <th>delinq.2yrs</th>\n",
       "      <th>pub.rec</th>\n",
       "      <th>not.fully.paid</th>\n",
       "    </tr>\n",
       "  </thead>\n",
       "  <tbody>\n",
       "    <tr>\n",
       "      <th>656</th>\n",
       "      <td>1</td>\n",
       "      <td>debt_consolidation</td>\n",
       "      <td>0.1229</td>\n",
       "      <td>281.84</td>\n",
       "      <td>14.528354</td>\n",
       "      <td>0.13</td>\n",
       "      <td>672</td>\n",
       "      <td>1293.041667</td>\n",
       "      <td>8747</td>\n",
       "      <td>51.8</td>\n",
       "      <td>1</td>\n",
       "      <td>0</td>\n",
       "      <td>0</td>\n",
       "      <td>0</td>\n",
       "    </tr>\n",
       "    <tr>\n",
       "      <th>5496</th>\n",
       "      <td>1</td>\n",
       "      <td>debt_consolidation</td>\n",
       "      <td>0.0774</td>\n",
       "      <td>206.05</td>\n",
       "      <td>14.124465</td>\n",
       "      <td>0.62</td>\n",
       "      <td>782</td>\n",
       "      <td>4709.958333</td>\n",
       "      <td>20</td>\n",
       "      <td>0.1</td>\n",
       "      <td>2</td>\n",
       "      <td>0</td>\n",
       "      <td>0</td>\n",
       "      <td>0</td>\n",
       "    </tr>\n",
       "    <tr>\n",
       "      <th>5794</th>\n",
       "      <td>1</td>\n",
       "      <td>major_purchase</td>\n",
       "      <td>0.0740</td>\n",
       "      <td>198.78</td>\n",
       "      <td>14.180154</td>\n",
       "      <td>0.00</td>\n",
       "      <td>772</td>\n",
       "      <td>5071.000000</td>\n",
       "      <td>2926</td>\n",
       "      <td>13.0</td>\n",
       "      <td>0</td>\n",
       "      <td>0</td>\n",
       "      <td>0</td>\n",
       "      <td>0</td>\n",
       "    </tr>\n",
       "    <tr>\n",
       "      <th>7825</th>\n",
       "      <td>0</td>\n",
       "      <td>debt_consolidation</td>\n",
       "      <td>0.1722</td>\n",
       "      <td>64.38</td>\n",
       "      <td>7.547502</td>\n",
       "      <td>18.99</td>\n",
       "      <td>642</td>\n",
       "      <td>450.000000</td>\n",
       "      <td>702</td>\n",
       "      <td>87.7</td>\n",
       "      <td>0</td>\n",
       "      <td>0</td>\n",
       "      <td>0</td>\n",
       "      <td>0</td>\n",
       "    </tr>\n",
       "    <tr>\n",
       "      <th>7900</th>\n",
       "      <td>0</td>\n",
       "      <td>all_other</td>\n",
       "      <td>0.0901</td>\n",
       "      <td>15.91</td>\n",
       "      <td>7.600902</td>\n",
       "      <td>0.00</td>\n",
       "      <td>702</td>\n",
       "      <td>238.958333</td>\n",
       "      <td>0</td>\n",
       "      <td>0.0</td>\n",
       "      <td>6</td>\n",
       "      <td>0</td>\n",
       "      <td>0</td>\n",
       "      <td>1</td>\n",
       "    </tr>\n",
       "  </tbody>\n",
       "</table>\n",
       "</div>"
      ],
      "text/plain": [
       "      credit.policy             purpose  int.rate  installment  \\\n",
       "656               1  debt_consolidation    0.1229       281.84   \n",
       "5496              1  debt_consolidation    0.0774       206.05   \n",
       "5794              1      major_purchase    0.0740       198.78   \n",
       "7825              0  debt_consolidation    0.1722        64.38   \n",
       "7900              0           all_other    0.0901        15.91   \n",
       "\n",
       "      log.annual.inc    dti  fico  days.with.cr.line  revol.bal  revol.util  \\\n",
       "656        14.528354   0.13   672        1293.041667       8747        51.8   \n",
       "5496       14.124465   0.62   782        4709.958333         20         0.1   \n",
       "5794       14.180154   0.00   772        5071.000000       2926        13.0   \n",
       "7825        7.547502  18.99   642         450.000000        702        87.7   \n",
       "7900        7.600902   0.00   702         238.958333          0         0.0   \n",
       "\n",
       "      inq.last.6mths  delinq.2yrs  pub.rec  not.fully.paid  \n",
       "656                1            0        0               0  \n",
       "5496               2            0        0               0  \n",
       "5794               0            0        0               0  \n",
       "7825               0            0        0               0  \n",
       "7900               6            0        0               1  "
      ]
     },
     "execution_count": 1024,
     "metadata": {},
     "output_type": "execute_result"
    }
   ],
   "source": [
    "df[(df['log.annual.inc']<8) | (df['log.annual.inc']> 14)]"
   ]
  },
  {
   "cell_type": "code",
   "execution_count": 1025,
   "metadata": {},
   "outputs": [
    {
     "name": "stdout",
     "output_type": "stream",
     "text": [
      "710.8074112734864\n",
      "707.0\n"
     ]
    },
    {
     "data": {
      "image/png": "[encoded data removed]",
      "text/plain": [
       "<Figure size 1080x504 with 1 Axes>"
      ]
     },
     "metadata": {
      "needs_background": "light"
     },
     "output_type": "display_data"
    }
   ],
   "source": [
    "# fico\n",
    "# The generic FICO® Score has a score range of 300 to 850.\n",
    "# out of this range are outliers. must remove.\n",
    "# no fully paid borrower tends to have lower fico for all categories.\n",
    "\n",
    "plt.figure(figsize=(15, 7))\n",
    "sns.boxplot(x='purpose', y='fico',data=df,palette='coolwarm', hue='not.fully.paid')\n",
    "var='fico'\n",
    "print(df[var].mean())\n",
    "print(df[var].median())"
   ]
  },
  {
   "cell_type": "code",
   "execution_count": 1026,
   "metadata": {},
   "outputs": [
    {
     "data": {
      "text/plain": [
       "<matplotlib.axes._subplots.AxesSubplot at 0x7ff9088f7fa0>"
      ]
     },
     "execution_count": 1026,
     "metadata": {},
     "output_type": "execute_result"
    },
    {
     "data": {
      "image/png": "[encoded data removed]",
      "text/plain": [
       "<Figure size 1080x504 with 1 Axes>"
      ]
     },
     "metadata": {
      "needs_background": "light"
     },
     "output_type": "display_data"
    }
   ],
   "source": [
    "# days.with.cr.line\n",
    "plt.figure(figsize=(15, 7))\n",
    "sns.boxplot(x='purpose', y='days.with.cr.line',data=df,palette='rainbow')"
   ]
  },
  {
   "cell_type": "code",
   "execution_count": 1027,
   "metadata": {},
   "outputs": [
    {
     "data": {
      "text/html": [
       "<div>\n",
       "<style scoped>\n",
       "    .dataframe tbody tr th:only-of-type {\n",
       "        vertical-align: middle;\n",
       "    }\n",
       "\n",
       "    .dataframe tbody tr th {\n",
       "        vertical-align: top;\n",
       "    }\n",
       "\n",
       "    .dataframe thead th {\n",
       "        text-align: right;\n",
       "    }\n",
       "</style>\n",
       "<table border=\"1\" class=\"dataframe\">\n",
       "  <thead>\n",
       "    <tr style=\"text-align: right;\">\n",
       "      <th></th>\n",
       "      <th>credit.policy</th>\n",
       "      <th>purpose</th>\n",
       "      <th>int.rate</th>\n",
       "      <th>installment</th>\n",
       "      <th>log.annual.inc</th>\n",
       "      <th>dti</th>\n",
       "      <th>fico</th>\n",
       "      <th>days.with.cr.line</th>\n",
       "      <th>revol.bal</th>\n",
       "      <th>revol.util</th>\n",
       "      <th>inq.last.6mths</th>\n",
       "      <th>delinq.2yrs</th>\n",
       "      <th>pub.rec</th>\n",
       "      <th>not.fully.paid</th>\n",
       "    </tr>\n",
       "  </thead>\n",
       "  <tbody>\n",
       "    <tr>\n",
       "      <th>24</th>\n",
       "      <td>1</td>\n",
       "      <td>all_other</td>\n",
       "      <td>0.0863</td>\n",
       "      <td>474.42</td>\n",
       "      <td>10.819778</td>\n",
       "      <td>2.59</td>\n",
       "      <td>797</td>\n",
       "      <td>11951.00000</td>\n",
       "      <td>5656</td>\n",
       "      <td>27.6</td>\n",
       "      <td>0</td>\n",
       "      <td>0</td>\n",
       "      <td>0</td>\n",
       "      <td>0</td>\n",
       "    </tr>\n",
       "    <tr>\n",
       "      <th>58</th>\n",
       "      <td>1</td>\n",
       "      <td>small_business</td>\n",
       "      <td>0.1059</td>\n",
       "      <td>398.69</td>\n",
       "      <td>11.002100</td>\n",
       "      <td>17.12</td>\n",
       "      <td>747</td>\n",
       "      <td>14008.95833</td>\n",
       "      <td>17214</td>\n",
       "      <td>8.1</td>\n",
       "      <td>2</td>\n",
       "      <td>1</td>\n",
       "      <td>0</td>\n",
       "      <td>0</td>\n",
       "    </tr>\n",
       "    <tr>\n",
       "      <th>95</th>\n",
       "      <td>1</td>\n",
       "      <td>debt_consolidation</td>\n",
       "      <td>0.0870</td>\n",
       "      <td>383.87</td>\n",
       "      <td>11.918391</td>\n",
       "      <td>4.80</td>\n",
       "      <td>767</td>\n",
       "      <td>13349.95833</td>\n",
       "      <td>61921</td>\n",
       "      <td>39.1</td>\n",
       "      <td>0</td>\n",
       "      <td>0</td>\n",
       "      <td>0</td>\n",
       "      <td>0</td>\n",
       "    </tr>\n",
       "    <tr>\n",
       "      <th>99</th>\n",
       "      <td>1</td>\n",
       "      <td>debt_consolidation</td>\n",
       "      <td>0.1154</td>\n",
       "      <td>329.95</td>\n",
       "      <td>12.323856</td>\n",
       "      <td>20.00</td>\n",
       "      <td>727</td>\n",
       "      <td>10292.00000</td>\n",
       "      <td>107501</td>\n",
       "      <td>44.8</td>\n",
       "      <td>2</td>\n",
       "      <td>0</td>\n",
       "      <td>0</td>\n",
       "      <td>0</td>\n",
       "    </tr>\n",
       "    <tr>\n",
       "      <th>116</th>\n",
       "      <td>1</td>\n",
       "      <td>debt_consolidation</td>\n",
       "      <td>0.0712</td>\n",
       "      <td>64.96</td>\n",
       "      <td>11.608236</td>\n",
       "      <td>0.22</td>\n",
       "      <td>812</td>\n",
       "      <td>16213.00000</td>\n",
       "      <td>50</td>\n",
       "      <td>0.3</td>\n",
       "      <td>0</td>\n",
       "      <td>0</td>\n",
       "      <td>0</td>\n",
       "      <td>0</td>\n",
       "    </tr>\n",
       "    <tr>\n",
       "      <th>...</th>\n",
       "      <td>...</td>\n",
       "      <td>...</td>\n",
       "      <td>...</td>\n",
       "      <td>...</td>\n",
       "      <td>...</td>\n",
       "      <td>...</td>\n",
       "      <td>...</td>\n",
       "      <td>...</td>\n",
       "      <td>...</td>\n",
       "      <td>...</td>\n",
       "      <td>...</td>\n",
       "      <td>...</td>\n",
       "      <td>...</td>\n",
       "      <td>...</td>\n",
       "    </tr>\n",
       "    <tr>\n",
       "      <th>9461</th>\n",
       "      <td>0</td>\n",
       "      <td>home_improvement</td>\n",
       "      <td>0.1739</td>\n",
       "      <td>537.71</td>\n",
       "      <td>10.915088</td>\n",
       "      <td>5.78</td>\n",
       "      <td>767</td>\n",
       "      <td>12930.04167</td>\n",
       "      <td>13584</td>\n",
       "      <td>48.5</td>\n",
       "      <td>9</td>\n",
       "      <td>0</td>\n",
       "      <td>0</td>\n",
       "      <td>0</td>\n",
       "    </tr>\n",
       "    <tr>\n",
       "      <th>9494</th>\n",
       "      <td>0</td>\n",
       "      <td>small_business</td>\n",
       "      <td>0.1426</td>\n",
       "      <td>514.59</td>\n",
       "      <td>11.289782</td>\n",
       "      <td>17.86</td>\n",
       "      <td>782</td>\n",
       "      <td>11220.00000</td>\n",
       "      <td>235868</td>\n",
       "      <td>17.5</td>\n",
       "      <td>0</td>\n",
       "      <td>0</td>\n",
       "      <td>0</td>\n",
       "      <td>0</td>\n",
       "    </tr>\n",
       "    <tr>\n",
       "      <th>9543</th>\n",
       "      <td>0</td>\n",
       "      <td>debt_consolidation</td>\n",
       "      <td>0.1311</td>\n",
       "      <td>192.35</td>\n",
       "      <td>11.002100</td>\n",
       "      <td>5.72</td>\n",
       "      <td>692</td>\n",
       "      <td>10236.00000</td>\n",
       "      <td>2077</td>\n",
       "      <td>1.1</td>\n",
       "      <td>4</td>\n",
       "      <td>3</td>\n",
       "      <td>0</td>\n",
       "      <td>1</td>\n",
       "    </tr>\n",
       "    <tr>\n",
       "      <th>9563</th>\n",
       "      <td>0</td>\n",
       "      <td>all_other</td>\n",
       "      <td>0.1867</td>\n",
       "      <td>547.36</td>\n",
       "      <td>11.407565</td>\n",
       "      <td>15.76</td>\n",
       "      <td>667</td>\n",
       "      <td>10050.04167</td>\n",
       "      <td>13255</td>\n",
       "      <td>88.4</td>\n",
       "      <td>7</td>\n",
       "      <td>0</td>\n",
       "      <td>0</td>\n",
       "      <td>0</td>\n",
       "    </tr>\n",
       "    <tr>\n",
       "      <th>9576</th>\n",
       "      <td>0</td>\n",
       "      <td>all_other</td>\n",
       "      <td>0.1461</td>\n",
       "      <td>344.76</td>\n",
       "      <td>12.180755</td>\n",
       "      <td>10.39</td>\n",
       "      <td>672</td>\n",
       "      <td>10474.00000</td>\n",
       "      <td>215372</td>\n",
       "      <td>82.1</td>\n",
       "      <td>2</td>\n",
       "      <td>0</td>\n",
       "      <td>0</td>\n",
       "      <td>1</td>\n",
       "    </tr>\n",
       "  </tbody>\n",
       "</table>\n",
       "<p>357 rows × 14 columns</p>\n",
       "</div>"
      ],
      "text/plain": [
       "      credit.policy             purpose  int.rate  installment  \\\n",
       "24                1           all_other    0.0863       474.42   \n",
       "58                1      small_business    0.1059       398.69   \n",
       "95                1  debt_consolidation    0.0870       383.87   \n",
       "99                1  debt_consolidation    0.1154       329.95   \n",
       "116               1  debt_consolidation    0.0712        64.96   \n",
       "...             ...                 ...       ...          ...   \n",
       "9461              0    home_improvement    0.1739       537.71   \n",
       "9494              0      small_business    0.1426       514.59   \n",
       "9543              0  debt_consolidation    0.1311       192.35   \n",
       "9563              0           all_other    0.1867       547.36   \n",
       "9576              0           all_other    0.1461       344.76   \n",
       "\n",
       "      log.annual.inc    dti  fico  days.with.cr.line  revol.bal  revol.util  \\\n",
       "24         10.819778   2.59   797        11951.00000       5656        27.6   \n",
       "58         11.002100  17.12   747        14008.95833      17214         8.1   \n",
       "95         11.918391   4.80   767        13349.95833      61921        39.1   \n",
       "99         12.323856  20.00   727        10292.00000     107501        44.8   \n",
       "116        11.608236   0.22   812        16213.00000         50         0.3   \n",
       "...              ...    ...   ...                ...        ...         ...   \n",
       "9461       10.915088   5.78   767        12930.04167      13584        48.5   \n",
       "9494       11.289782  17.86   782        11220.00000     235868        17.5   \n",
       "9543       11.002100   5.72   692        10236.00000       2077         1.1   \n",
       "9563       11.407565  15.76   667        10050.04167      13255        88.4   \n",
       "9576       12.180755  10.39   672        10474.00000     215372        82.1   \n",
       "\n",
       "      inq.last.6mths  delinq.2yrs  pub.rec  not.fully.paid  \n",
       "24                 0            0        0               0  \n",
       "58                 2            1        0               0  \n",
       "95                 0            0        0               0  \n",
       "99                 2            0        0               0  \n",
       "116                0            0        0               0  \n",
       "...              ...          ...      ...             ...  \n",
       "9461               9            0        0               0  \n",
       "9494               0            0        0               0  \n",
       "9543               4            3        0               1  \n",
       "9563               7            0        0               0  \n",
       "9576               2            0        0               1  \n",
       "\n",
       "[357 rows x 14 columns]"
      ]
     },
     "execution_count": 1027,
     "metadata": {},
     "output_type": "execute_result"
    }
   ],
   "source": [
    "df[df['days.with.cr.line']>10000] \n",
    "# 10000 days = 27 years\n",
    "# 17500 days = 48 years\n"
   ]
  },
  {
   "cell_type": "code",
   "execution_count": 1028,
   "metadata": {},
   "outputs": [
    {
     "data": {
      "text/plain": [
       "<matplotlib.axes._subplots.AxesSubplot at 0x7ff91310d310>"
      ]
     },
     "execution_count": 1028,
     "metadata": {},
     "output_type": "execute_result"
    },
    {
     "data": {
      "image/png": "[encoded data removed]",
      "text/plain": [
       "<Figure size 1080x504 with 1 Axes>"
      ]
     },
     "metadata": {
      "needs_background": "light"
     },
     "output_type": "display_data"
    }
   ],
   "source": [
    "# revol.bal\n",
    "plt.figure(figsize=(15, 7))\n",
    "sns.boxplot(x='purpose', y='revol.bal',data=df,palette='rainbow')"
   ]
  },
  {
   "cell_type": "code",
   "execution_count": 1029,
   "metadata": {},
   "outputs": [
    {
     "data": {
      "text/html": [
       "<div>\n",
       "<style scoped>\n",
       "    .dataframe tbody tr th:only-of-type {\n",
       "        vertical-align: middle;\n",
       "    }\n",
       "\n",
       "    .dataframe tbody tr th {\n",
       "        vertical-align: top;\n",
       "    }\n",
       "\n",
       "    .dataframe thead th {\n",
       "        text-align: right;\n",
       "    }\n",
       "</style>\n",
       "<table border=\"1\" class=\"dataframe\">\n",
       "  <thead>\n",
       "    <tr style=\"text-align: right;\">\n",
       "      <th></th>\n",
       "      <th>credit.policy</th>\n",
       "      <th>purpose</th>\n",
       "      <th>int.rate</th>\n",
       "      <th>installment</th>\n",
       "      <th>log.annual.inc</th>\n",
       "      <th>dti</th>\n",
       "      <th>fico</th>\n",
       "      <th>days.with.cr.line</th>\n",
       "      <th>revol.bal</th>\n",
       "      <th>revol.util</th>\n",
       "      <th>inq.last.6mths</th>\n",
       "      <th>delinq.2yrs</th>\n",
       "      <th>pub.rec</th>\n",
       "      <th>not.fully.paid</th>\n",
       "    </tr>\n",
       "  </thead>\n",
       "  <tbody>\n",
       "    <tr>\n",
       "      <th>9045</th>\n",
       "      <td>0</td>\n",
       "      <td>small_business</td>\n",
       "      <td>0.2011</td>\n",
       "      <td>735.06</td>\n",
       "      <td>13.304685</td>\n",
       "      <td>14.39</td>\n",
       "      <td>672</td>\n",
       "      <td>7620.000000</td>\n",
       "      <td>952013</td>\n",
       "      <td>99.0</td>\n",
       "      <td>6</td>\n",
       "      <td>0</td>\n",
       "      <td>0</td>\n",
       "      <td>0</td>\n",
       "    </tr>\n",
       "    <tr>\n",
       "      <th>9310</th>\n",
       "      <td>0</td>\n",
       "      <td>all_other</td>\n",
       "      <td>0.1287</td>\n",
       "      <td>168.17</td>\n",
       "      <td>12.594731</td>\n",
       "      <td>9.27</td>\n",
       "      <td>692</td>\n",
       "      <td>6330.000000</td>\n",
       "      <td>602519</td>\n",
       "      <td>68.4</td>\n",
       "      <td>4</td>\n",
       "      <td>0</td>\n",
       "      <td>1</td>\n",
       "      <td>0</td>\n",
       "    </tr>\n",
       "    <tr>\n",
       "      <th>9538</th>\n",
       "      <td>0</td>\n",
       "      <td>small_business</td>\n",
       "      <td>0.1496</td>\n",
       "      <td>831.52</td>\n",
       "      <td>12.765688</td>\n",
       "      <td>11.38</td>\n",
       "      <td>717</td>\n",
       "      <td>8520.041667</td>\n",
       "      <td>1207359</td>\n",
       "      <td>56.0</td>\n",
       "      <td>7</td>\n",
       "      <td>0</td>\n",
       "      <td>0</td>\n",
       "      <td>1</td>\n",
       "    </tr>\n",
       "  </tbody>\n",
       "</table>\n",
       "</div>"
      ],
      "text/plain": [
       "      credit.policy         purpose  int.rate  installment  log.annual.inc  \\\n",
       "9045              0  small_business    0.2011       735.06       13.304685   \n",
       "9310              0       all_other    0.1287       168.17       12.594731   \n",
       "9538              0  small_business    0.1496       831.52       12.765688   \n",
       "\n",
       "        dti  fico  days.with.cr.line  revol.bal  revol.util  inq.last.6mths  \\\n",
       "9045  14.39   672        7620.000000     952013        99.0               6   \n",
       "9310   9.27   692        6330.000000     602519        68.4               4   \n",
       "9538  11.38   717        8520.041667    1207359        56.0               7   \n",
       "\n",
       "      delinq.2yrs  pub.rec  not.fully.paid  \n",
       "9045            0        0               0  \n",
       "9310            0        1               0  \n",
       "9538            0        0               1  "
      ]
     },
     "execution_count": 1029,
     "metadata": {},
     "output_type": "execute_result"
    }
   ],
   "source": [
    "df[df['revol.bal'] > 600000]"
   ]
  },
  {
   "cell_type": "code",
   "execution_count": 1030,
   "metadata": {},
   "outputs": [
    {
     "data": {
      "text/plain": [
       "<matplotlib.axes._subplots.AxesSubplot at 0x7ff915c8ee20>"
      ]
     },
     "execution_count": 1030,
     "metadata": {},
     "output_type": "execute_result"
    },
    {
     "data": {
      "image/png": "[encoded data removed]",
      "text/plain": [
       "<Figure size 1080x504 with 1 Axes>"
      ]
     },
     "metadata": {
      "needs_background": "light"
     },
     "output_type": "display_data"
    }
   ],
   "source": [
    "# revol.util: no outliers here, we good. \n",
    "plt.figure(figsize=(15, 7))\n",
    "sns.boxplot(x='purpose', y='revol.util',data=df,palette='rainbow')"
   ]
  },
  {
   "cell_type": "code",
   "execution_count": 1031,
   "metadata": {},
   "outputs": [
    {
     "data": {
      "text/plain": [
       "<matplotlib.axes._subplots.AxesSubplot at 0x7ff915f32820>"
      ]
     },
     "execution_count": 1031,
     "metadata": {},
     "output_type": "execute_result"
    },
    {
     "data": {
      "image/png": "[encoded data removed]",
      "text/plain": [
       "<Figure size 1080x504 with 1 Axes>"
      ]
     },
     "metadata": {
      "needs_background": "light"
     },
     "output_type": "display_data"
    }
   ],
   "source": [
    "# inq.last.6mths\n",
    "# too many 'hard pull' sounds not realistic, over 20 times in 180 days? really? 'hard pull' \n",
    "# over 7 times a month? only make sense if it contains 'soft pull'.\n",
    "\n",
    "plt.figure(figsize=(15, 7))\n",
    "sns.boxplot(x='purpose', y='inq.last.6mths',data=df,palette='rainbow')"
   ]
  },
  {
   "cell_type": "code",
   "execution_count": 1032,
   "metadata": {},
   "outputs": [
    {
     "data": {
      "text/html": [
       "<div>\n",
       "<style scoped>\n",
       "    .dataframe tbody tr th:only-of-type {\n",
       "        vertical-align: middle;\n",
       "    }\n",
       "\n",
       "    .dataframe tbody tr th {\n",
       "        vertical-align: top;\n",
       "    }\n",
       "\n",
       "    .dataframe thead th {\n",
       "        text-align: right;\n",
       "    }\n",
       "</style>\n",
       "<table border=\"1\" class=\"dataframe\">\n",
       "  <thead>\n",
       "    <tr style=\"text-align: right;\">\n",
       "      <th></th>\n",
       "      <th>credit.policy</th>\n",
       "      <th>purpose</th>\n",
       "      <th>int.rate</th>\n",
       "      <th>installment</th>\n",
       "      <th>log.annual.inc</th>\n",
       "      <th>dti</th>\n",
       "      <th>fico</th>\n",
       "      <th>days.with.cr.line</th>\n",
       "      <th>revol.bal</th>\n",
       "      <th>revol.util</th>\n",
       "      <th>inq.last.6mths</th>\n",
       "      <th>delinq.2yrs</th>\n",
       "      <th>pub.rec</th>\n",
       "      <th>not.fully.paid</th>\n",
       "    </tr>\n",
       "  </thead>\n",
       "  <tbody>\n",
       "    <tr>\n",
       "      <th>7717</th>\n",
       "      <td>0</td>\n",
       "      <td>debt_consolidation</td>\n",
       "      <td>0.1482</td>\n",
       "      <td>242.05</td>\n",
       "      <td>10.714418</td>\n",
       "      <td>19.12</td>\n",
       "      <td>652</td>\n",
       "      <td>2847.000000</td>\n",
       "      <td>26531</td>\n",
       "      <td>52.6</td>\n",
       "      <td>33</td>\n",
       "      <td>0</td>\n",
       "      <td>0</td>\n",
       "      <td>1</td>\n",
       "    </tr>\n",
       "    <tr>\n",
       "      <th>8021</th>\n",
       "      <td>0</td>\n",
       "      <td>small_business</td>\n",
       "      <td>0.1028</td>\n",
       "      <td>155.52</td>\n",
       "      <td>10.308953</td>\n",
       "      <td>8.96</td>\n",
       "      <td>682</td>\n",
       "      <td>719.000000</td>\n",
       "      <td>6893</td>\n",
       "      <td>15.4</td>\n",
       "      <td>27</td>\n",
       "      <td>0</td>\n",
       "      <td>0</td>\n",
       "      <td>0</td>\n",
       "    </tr>\n",
       "    <tr>\n",
       "      <th>8023</th>\n",
       "      <td>0</td>\n",
       "      <td>all_other</td>\n",
       "      <td>0.1091</td>\n",
       "      <td>163.49</td>\n",
       "      <td>12.483704</td>\n",
       "      <td>8.30</td>\n",
       "      <td>677</td>\n",
       "      <td>7080.041667</td>\n",
       "      <td>2053</td>\n",
       "      <td>2.6</td>\n",
       "      <td>25</td>\n",
       "      <td>0</td>\n",
       "      <td>0</td>\n",
       "      <td>1</td>\n",
       "    </tr>\n",
       "    <tr>\n",
       "      <th>8029</th>\n",
       "      <td>0</td>\n",
       "      <td>debt_consolidation</td>\n",
       "      <td>0.1375</td>\n",
       "      <td>102.17</td>\n",
       "      <td>10.596635</td>\n",
       "      <td>16.71</td>\n",
       "      <td>642</td>\n",
       "      <td>1799.000000</td>\n",
       "      <td>9135</td>\n",
       "      <td>76.8</td>\n",
       "      <td>28</td>\n",
       "      <td>0</td>\n",
       "      <td>0</td>\n",
       "      <td>0</td>\n",
       "    </tr>\n",
       "    <tr>\n",
       "      <th>8040</th>\n",
       "      <td>0</td>\n",
       "      <td>all_other</td>\n",
       "      <td>0.1217</td>\n",
       "      <td>99.89</td>\n",
       "      <td>10.212001</td>\n",
       "      <td>14.85</td>\n",
       "      <td>662</td>\n",
       "      <td>2820.000000</td>\n",
       "      <td>0</td>\n",
       "      <td>0.0</td>\n",
       "      <td>31</td>\n",
       "      <td>0</td>\n",
       "      <td>1</td>\n",
       "      <td>0</td>\n",
       "    </tr>\n",
       "    <tr>\n",
       "      <th>8065</th>\n",
       "      <td>0</td>\n",
       "      <td>all_other</td>\n",
       "      <td>0.1438</td>\n",
       "      <td>46.39</td>\n",
       "      <td>11.002100</td>\n",
       "      <td>21.34</td>\n",
       "      <td>642</td>\n",
       "      <td>5880.000000</td>\n",
       "      <td>25254</td>\n",
       "      <td>53.1</td>\n",
       "      <td>24</td>\n",
       "      <td>0</td>\n",
       "      <td>0</td>\n",
       "      <td>0</td>\n",
       "    </tr>\n",
       "    <tr>\n",
       "      <th>8378</th>\n",
       "      <td>0</td>\n",
       "      <td>credit_card</td>\n",
       "      <td>0.1292</td>\n",
       "      <td>100.97</td>\n",
       "      <td>10.596635</td>\n",
       "      <td>15.73</td>\n",
       "      <td>662</td>\n",
       "      <td>1904.000000</td>\n",
       "      <td>7784</td>\n",
       "      <td>65.4</td>\n",
       "      <td>24</td>\n",
       "      <td>0</td>\n",
       "      <td>0</td>\n",
       "      <td>0</td>\n",
       "    </tr>\n",
       "    <tr>\n",
       "      <th>8412</th>\n",
       "      <td>0</td>\n",
       "      <td>credit_card</td>\n",
       "      <td>0.1324</td>\n",
       "      <td>172.43</td>\n",
       "      <td>9.740969</td>\n",
       "      <td>6.99</td>\n",
       "      <td>657</td>\n",
       "      <td>780.000000</td>\n",
       "      <td>5734</td>\n",
       "      <td>59.1</td>\n",
       "      <td>32</td>\n",
       "      <td>0</td>\n",
       "      <td>0</td>\n",
       "      <td>1</td>\n",
       "    </tr>\n",
       "  </tbody>\n",
       "</table>\n",
       "</div>"
      ],
      "text/plain": [
       "      credit.policy             purpose  int.rate  installment  \\\n",
       "7717              0  debt_consolidation    0.1482       242.05   \n",
       "8021              0      small_business    0.1028       155.52   \n",
       "8023              0           all_other    0.1091       163.49   \n",
       "8029              0  debt_consolidation    0.1375       102.17   \n",
       "8040              0           all_other    0.1217        99.89   \n",
       "8065              0           all_other    0.1438        46.39   \n",
       "8378              0         credit_card    0.1292       100.97   \n",
       "8412              0         credit_card    0.1324       172.43   \n",
       "\n",
       "      log.annual.inc    dti  fico  days.with.cr.line  revol.bal  revol.util  \\\n",
       "7717       10.714418  19.12   652        2847.000000      26531        52.6   \n",
       "8021       10.308953   8.96   682         719.000000       6893        15.4   \n",
       "8023       12.483704   8.30   677        7080.041667       2053         2.6   \n",
       "8029       10.596635  16.71   642        1799.000000       9135        76.8   \n",
       "8040       10.212001  14.85   662        2820.000000          0         0.0   \n",
       "8065       11.002100  21.34   642        5880.000000      25254        53.1   \n",
       "8378       10.596635  15.73   662        1904.000000       7784        65.4   \n",
       "8412        9.740969   6.99   657         780.000000       5734        59.1   \n",
       "\n",
       "      inq.last.6mths  delinq.2yrs  pub.rec  not.fully.paid  \n",
       "7717              33            0        0               1  \n",
       "8021              27            0        0               0  \n",
       "8023              25            0        0               1  \n",
       "8029              28            0        0               0  \n",
       "8040              31            0        1               0  \n",
       "8065              24            0        0               0  \n",
       "8378              24            0        0               0  \n",
       "8412              32            0        0               1  "
      ]
     },
     "execution_count": 1032,
     "metadata": {},
     "output_type": "execute_result"
    }
   ],
   "source": [
    "\n",
    "df[df['inq.last.6mths']>20]"
   ]
  },
  {
   "cell_type": "code",
   "execution_count": 1033,
   "metadata": {},
   "outputs": [
    {
     "data": {
      "text/plain": [
       "<matplotlib.axes._subplots.AxesSubplot at 0x7ff91907ed60>"
      ]
     },
     "execution_count": 1033,
     "metadata": {},
     "output_type": "execute_result"
    },
    {
     "data": {
      "image/png": "[encoded data removed]",
      "text/plain": [
       "<Figure size 1080x504 with 1 Axes>"
      ]
     },
     "metadata": {
      "needs_background": "light"
     },
     "output_type": "display_data"
    }
   ],
   "source": [
    "# delinq.2yrs\n",
    "plt.figure(figsize=(15, 7))\n",
    "sns.boxplot(x='purpose', y='delinq.2yrs',data=df,palette='rainbow')"
   ]
  },
  {
   "cell_type": "code",
   "execution_count": 1034,
   "metadata": {},
   "outputs": [
    {
     "data": {
      "text/html": [
       "<div>\n",
       "<style scoped>\n",
       "    .dataframe tbody tr th:only-of-type {\n",
       "        vertical-align: middle;\n",
       "    }\n",
       "\n",
       "    .dataframe tbody tr th {\n",
       "        vertical-align: top;\n",
       "    }\n",
       "\n",
       "    .dataframe thead th {\n",
       "        text-align: right;\n",
       "    }\n",
       "</style>\n",
       "<table border=\"1\" class=\"dataframe\">\n",
       "  <thead>\n",
       "    <tr style=\"text-align: right;\">\n",
       "      <th></th>\n",
       "      <th>credit.policy</th>\n",
       "      <th>purpose</th>\n",
       "      <th>int.rate</th>\n",
       "      <th>installment</th>\n",
       "      <th>log.annual.inc</th>\n",
       "      <th>dti</th>\n",
       "      <th>fico</th>\n",
       "      <th>days.with.cr.line</th>\n",
       "      <th>revol.bal</th>\n",
       "      <th>revol.util</th>\n",
       "      <th>inq.last.6mths</th>\n",
       "      <th>delinq.2yrs</th>\n",
       "      <th>pub.rec</th>\n",
       "      <th>not.fully.paid</th>\n",
       "    </tr>\n",
       "  </thead>\n",
       "  <tbody>\n",
       "    <tr>\n",
       "      <th>7792</th>\n",
       "      <td>0</td>\n",
       "      <td>debt_consolidation</td>\n",
       "      <td>0.1407</td>\n",
       "      <td>171.05</td>\n",
       "      <td>10.714418</td>\n",
       "      <td>0.53</td>\n",
       "      <td>642</td>\n",
       "      <td>2846.000000</td>\n",
       "      <td>123</td>\n",
       "      <td>41.0</td>\n",
       "      <td>6</td>\n",
       "      <td>13</td>\n",
       "      <td>0</td>\n",
       "      <td>0</td>\n",
       "    </tr>\n",
       "    <tr>\n",
       "      <th>8551</th>\n",
       "      <td>0</td>\n",
       "      <td>all_other</td>\n",
       "      <td>0.1861</td>\n",
       "      <td>291.68</td>\n",
       "      <td>12.301383</td>\n",
       "      <td>6.87</td>\n",
       "      <td>647</td>\n",
       "      <td>4049.958333</td>\n",
       "      <td>378</td>\n",
       "      <td>5.0</td>\n",
       "      <td>0</td>\n",
       "      <td>11</td>\n",
       "      <td>1</td>\n",
       "      <td>0</td>\n",
       "    </tr>\n",
       "  </tbody>\n",
       "</table>\n",
       "</div>"
      ],
      "text/plain": [
       "      credit.policy             purpose  int.rate  installment  \\\n",
       "7792              0  debt_consolidation    0.1407       171.05   \n",
       "8551              0           all_other    0.1861       291.68   \n",
       "\n",
       "      log.annual.inc   dti  fico  days.with.cr.line  revol.bal  revol.util  \\\n",
       "7792       10.714418  0.53   642        2846.000000        123        41.0   \n",
       "8551       12.301383  6.87   647        4049.958333        378         5.0   \n",
       "\n",
       "      inq.last.6mths  delinq.2yrs  pub.rec  not.fully.paid  \n",
       "7792               6           13        0               0  \n",
       "8551               0           11        1               0  "
      ]
     },
     "execution_count": 1034,
     "metadata": {},
     "output_type": "execute_result"
    }
   ],
   "source": [
    "# I don't think we should remove outliers from delinq.2yrs, it could happend on small amount of people, less data doesn't mean it's wrong.\n",
    "df[df['delinq.2yrs']>8]"
   ]
  },
  {
   "cell_type": "code",
   "execution_count": 1035,
   "metadata": {},
   "outputs": [
    {
     "data": {
      "text/plain": [
       "<matplotlib.axes._subplots.AxesSubplot at 0x7ff9191a7df0>"
      ]
     },
     "execution_count": 1035,
     "metadata": {},
     "output_type": "execute_result"
    },
    {
     "data": {
      "image/png": "[encoded data removed]",
      "text/plain": [
       "<Figure size 1080x504 with 1 Axes>"
      ]
     },
     "metadata": {
      "needs_background": "light"
     },
     "output_type": "display_data"
    }
   ],
   "source": [
    "# pub.rec\n",
    "plt.figure(figsize=(15, 7))\n",
    "sns.boxplot(x='purpose', y='pub.rec',data=df,palette='rainbow')"
   ]
  },
  {
   "cell_type": "markdown",
   "metadata": {},
   "source": [
    "### Remove Outliers"
   ]
  },
  {
   "cell_type": "code",
   "execution_count": 1036,
   "metadata": {},
   "outputs": [
    {
     "data": {
      "text/plain": [
       "(9569, 14)"
      ]
     },
     "execution_count": 1036,
     "metadata": {},
     "output_type": "execute_result"
    }
   ],
   "source": [
    "# The generic FICO® Score has a score range of 300 to 850.\n",
    "# out of this range are outliers.\n",
    "\n",
    "df2 = df[(df['fico']<=850) & (df['fico']>=300)]\n",
    "# df3 = df2[df2['days.with.cr.line']<=10000]\n",
    "df6 = df2[df2['inq.last.6mths']<20]\n",
    "\n",
    "df6.shape"
   ]
  },
  {
   "cell_type": "code",
   "execution_count": 1037,
   "metadata": {},
   "outputs": [],
   "source": [
    "df6.reset_index(inplace=True)"
   ]
  },
  {
   "cell_type": "markdown",
   "metadata": {},
   "source": [
    "## Normalize numerical features "
   ]
  },
  {
   "cell_type": "code",
   "execution_count": 1038,
   "metadata": {},
   "outputs": [],
   "source": [
    "col = ['credit.policy', 'int.rate', 'installment', 'log.annual.inc',\n",
    "       'dti', 'fico', 'days.with.cr.line', 'revol.bal', 'revol.util',\n",
    "       'inq.last.6mths', 'delinq.2yrs', 'pub.rec']"
   ]
  },
  {
   "cell_type": "code",
   "execution_count": 1039,
   "metadata": {},
   "outputs": [
    {
     "data": {
      "text/plain": [
       "(9569, 12)"
      ]
     },
     "execution_count": 1039,
     "metadata": {},
     "output_type": "execute_result"
    }
   ],
   "source": [
    "from sklearn.preprocessing import MinMaxScaler, StandardScaler\n",
    "scaler = MinMaxScaler()\n",
    "normalized_df = scaler.fit_transform(df6[col])\n",
    "normalized_df = pd.DataFrame(normalized_df, columns = col)\n",
    "normalized_df.shape"
   ]
  },
  {
   "cell_type": "markdown",
   "metadata": {},
   "source": [
    "## Setup dummy variables to take care categorical variables"
   ]
  },
  {
   "cell_type": "code",
   "execution_count": 1040,
   "metadata": {},
   "outputs": [
    {
     "data": {
      "text/plain": [
       "(9569, 18)"
      ]
     },
     "execution_count": 1040,
     "metadata": {},
     "output_type": "execute_result"
    }
   ],
   "source": [
    "# create dummies variable \n",
    "dummies = pd.get_dummies(df6.purpose, drop_first=True)\n",
    "# df7 = df6[col].join(dummies)\n",
    "df7 = pd.concat([normalized_df, dummies], axis=1)\n",
    "df7.shape"
   ]
  },
  {
   "cell_type": "markdown",
   "metadata": {},
   "source": [
    "## Split data set into training and testing\n",
    "## Perform the learning process with Cross-Validations"
   ]
  },
  {
   "cell_type": "code",
   "execution_count": 1041,
   "metadata": {},
   "outputs": [
    {
     "name": "stdout",
     "output_type": "stream",
     "text": [
      "              precision    recall  f1-score   support\n",
      "\n",
      "           0       0.84      0.99      0.91      1595\n",
      "           1       0.60      0.04      0.07       319\n",
      "\n",
      "    accuracy                           0.84      1914\n",
      "   macro avg       0.72      0.52      0.49      1914\n",
      "weighted avg       0.80      0.84      0.77      1914\n",
      "\n",
      "accuracy_score: 0.835423197492163\n",
      "              precision    recall  f1-score   support\n",
      "\n",
      "           0       0.83      1.00      0.91      1591\n",
      "           1       0.54      0.02      0.04       323\n",
      "\n",
      "    accuracy                           0.83      1914\n",
      "   macro avg       0.69      0.51      0.47      1914\n",
      "weighted avg       0.78      0.83      0.76      1914\n",
      "\n",
      "accuracy_score: 0.831765935214211\n",
      "              precision    recall  f1-score   support\n",
      "\n",
      "           0       0.83      0.99      0.91      1582\n",
      "           1       0.58      0.03      0.06       332\n",
      "\n",
      "    accuracy                           0.83      1914\n",
      "   macro avg       0.70      0.51      0.48      1914\n",
      "weighted avg       0.79      0.83      0.76      1914\n",
      "\n",
      "accuracy_score: 0.8281086729362591\n",
      "              precision    recall  f1-score   support\n",
      "\n",
      "           0       0.83      0.99      0.90      1585\n",
      "           1       0.39      0.02      0.04       329\n",
      "\n",
      "    accuracy                           0.83      1914\n",
      "   macro avg       0.61      0.51      0.47      1914\n",
      "weighted avg       0.75      0.83      0.76      1914\n",
      "\n",
      "accuracy_score: 0.8260188087774295\n",
      "              precision    recall  f1-score   support\n",
      "\n",
      "           0       0.85      0.99      0.92      1631\n",
      "           1       0.40      0.02      0.04       283\n",
      "\n",
      "    accuracy                           0.85      1914\n",
      "   macro avg       0.63      0.51      0.48      1914\n",
      "weighted avg       0.79      0.85      0.79      1914\n",
      "\n",
      "accuracy_score: 0.8505747126436781\n",
      "              precision    recall  f1-score   support\n",
      "\n",
      "           0       0.85      1.00      0.92      1619\n",
      "           1       0.45      0.02      0.03       295\n",
      "\n",
      "    accuracy                           0.85      1914\n",
      "   macro avg       0.65      0.51      0.47      1914\n",
      "weighted avg       0.79      0.85      0.78      1914\n",
      "\n",
      "accuracy_score: 0.845350052246604\n",
      "              precision    recall  f1-score   support\n",
      "\n",
      "           0       0.85      0.99      0.92      1622\n",
      "           1       0.35      0.02      0.04       292\n",
      "\n",
      "    accuracy                           0.84      1914\n",
      "   macro avg       0.60      0.51      0.48      1914\n",
      "weighted avg       0.77      0.84      0.78      1914\n",
      "\n",
      "accuracy_score: 0.8448275862068966\n",
      "              precision    recall  f1-score   support\n",
      "\n",
      "           0       0.84      1.00      0.91      1607\n",
      "           1       0.38      0.02      0.03       307\n",
      "\n",
      "    accuracy                           0.84      1914\n",
      "   macro avg       0.61      0.51      0.47      1914\n",
      "weighted avg       0.77      0.84      0.77      1914\n",
      "\n",
      "accuracy_score: 0.8380355276907001\n",
      "              precision    recall  f1-score   support\n",
      "\n",
      "           0       0.84      1.00      0.91      1606\n",
      "           1       0.53      0.03      0.05       308\n",
      "\n",
      "    accuracy                           0.84      1914\n",
      "   macro avg       0.69      0.51      0.48      1914\n",
      "weighted avg       0.79      0.84      0.77      1914\n",
      "\n",
      "accuracy_score: 0.8396029258098223\n",
      "              precision    recall  f1-score   support\n",
      "\n",
      "           0       0.84      0.99      0.91      1606\n",
      "           1       0.53      0.03      0.06       308\n",
      "\n",
      "    accuracy                           0.84      1914\n",
      "   macro avg       0.68      0.51      0.49      1914\n",
      "weighted avg       0.79      0.84      0.78      1914\n",
      "\n",
      "accuracy_score: 0.8396029258098223\n"
     ]
    }
   ],
   "source": [
    "import random\n",
    "\n",
    "# 1 LogisticRegression\n",
    "for i in range(10):\n",
    "    x_train, x_test, y_train, y_test = train_test_split(df7, df6['not.fully.paid'], test_size=0.2, random_state = random.randint(1,1000))\n",
    "    model = LogisticRegression()\n",
    "    model.fit(x_train, y_train)\n",
    "    y_pred = model.predict(x_test)\n",
    "\n",
    "    print (classification_report(y_test,y_pred))\n",
    "    print(\"accuracy_score: \" + str(accuracy_score(y_test, y_pred)))"
   ]
  },
  {
   "cell_type": "code",
   "execution_count": 1042,
   "metadata": {},
   "outputs": [
    {
     "name": "stdout",
     "output_type": "stream",
     "text": [
      "              precision    recall  f1-score   support\n",
      "\n",
      "           0       0.84      0.93      0.88      1587\n",
      "           1       0.29      0.14      0.19       327\n",
      "\n",
      "    accuracy                           0.80      1914\n",
      "   macro avg       0.57      0.54      0.54      1914\n",
      "weighted avg       0.75      0.80      0.76      1914\n",
      "\n",
      "accuracy_score: 0.7951933124346917\n",
      "              precision    recall  f1-score   support\n",
      "\n",
      "           0       0.85      0.91      0.88      1617\n",
      "           1       0.23      0.14      0.18       297\n",
      "\n",
      "    accuracy                           0.79      1914\n",
      "   macro avg       0.54      0.53      0.53      1914\n",
      "weighted avg       0.76      0.79      0.77      1914\n",
      "\n",
      "accuracy_score: 0.7936259143155695\n",
      "              precision    recall  f1-score   support\n",
      "\n",
      "           0       0.85      0.91      0.88      1621\n",
      "           1       0.20      0.12      0.15       293\n",
      "\n",
      "    accuracy                           0.79      1914\n",
      "   macro avg       0.52      0.52      0.51      1914\n",
      "weighted avg       0.75      0.79      0.77      1914\n",
      "\n",
      "accuracy_score: 0.7920585161964472\n",
      "              precision    recall  f1-score   support\n",
      "\n",
      "           0       0.85      0.92      0.89      1618\n",
      "           1       0.24      0.13      0.17       296\n",
      "\n",
      "    accuracy                           0.80      1914\n",
      "   macro avg       0.55      0.53      0.53      1914\n",
      "weighted avg       0.76      0.80      0.78      1914\n",
      "\n",
      "accuracy_score: 0.8014629049111808\n",
      "              precision    recall  f1-score   support\n",
      "\n",
      "           0       0.86      0.92      0.89      1621\n",
      "           1       0.25      0.14      0.18       293\n",
      "\n",
      "    accuracy                           0.80      1914\n",
      "   macro avg       0.55      0.53      0.53      1914\n",
      "weighted avg       0.76      0.80      0.78      1914\n",
      "\n",
      "accuracy_score: 0.803030303030303\n",
      "              precision    recall  f1-score   support\n",
      "\n",
      "           0       0.85      0.92      0.88      1619\n",
      "           1       0.23      0.13      0.17       295\n",
      "\n",
      "    accuracy                           0.80      1914\n",
      "   macro avg       0.54      0.53      0.53      1914\n",
      "weighted avg       0.76      0.80      0.77      1914\n",
      "\n",
      "accuracy_score: 0.7972831765935214\n",
      "              precision    recall  f1-score   support\n",
      "\n",
      "           0       0.86      0.93      0.89      1627\n",
      "           1       0.25      0.13      0.17       287\n",
      "\n",
      "    accuracy                           0.81      1914\n",
      "   macro avg       0.55      0.53      0.53      1914\n",
      "weighted avg       0.77      0.81      0.78      1914\n",
      "\n",
      "accuracy_score: 0.809299895506792\n",
      "              precision    recall  f1-score   support\n",
      "\n",
      "           0       0.85      0.92      0.88      1605\n",
      "           1       0.26      0.14      0.18       309\n",
      "\n",
      "    accuracy                           0.80      1914\n",
      "   macro avg       0.55      0.53      0.53      1914\n",
      "weighted avg       0.75      0.80      0.77      1914\n",
      "\n",
      "accuracy_score: 0.7972831765935214\n",
      "              precision    recall  f1-score   support\n",
      "\n",
      "           0       0.85      0.92      0.88      1607\n",
      "           1       0.24      0.14      0.18       307\n",
      "\n",
      "    accuracy                           0.79      1914\n",
      "   macro avg       0.55      0.53      0.53      1914\n",
      "weighted avg       0.75      0.79      0.77      1914\n",
      "\n",
      "accuracy_score: 0.7920585161964472\n",
      "              precision    recall  f1-score   support\n",
      "\n",
      "           0       0.84      0.93      0.88      1577\n",
      "           1       0.30      0.15      0.20       337\n",
      "\n",
      "    accuracy                           0.79      1914\n",
      "   macro avg       0.57      0.54      0.54      1914\n",
      "weighted avg       0.74      0.79      0.76      1914\n",
      "\n",
      "accuracy_score: 0.7910135841170324\n"
     ]
    }
   ],
   "source": [
    "# support vector machine, f1 score are higher then other models.\n",
    "for i in range(10):\n",
    "    x_train, x_test, y_train, y_test = train_test_split(df7, df6['not.fully.paid'], test_size=0.2, random_state = random.randint(1,1000))\n",
    "    model2 = svm.SVC(kernel='rbf', C=10, gamma=10)\n",
    "    model2.fit(x_train, y_train)\n",
    "    y_pred2 = model2.predict(x_test)\n",
    "    print (classification_report(y_test,y_pred2))\n",
    "    print(\"accuracy_score: \" + str(accuracy_score(y_test, y_pred2)))"
   ]
  },
  {
   "cell_type": "code",
   "execution_count": 1043,
   "metadata": {},
   "outputs": [
    {
     "name": "stdout",
     "output_type": "stream",
     "text": [
      "              precision    recall  f1-score   support\n",
      "\n",
      "           0       0.84      1.00      0.91      1597\n",
      "           1       0.53      0.03      0.05       317\n",
      "\n",
      "    accuracy                           0.83      1914\n",
      "   macro avg       0.69      0.51      0.48      1914\n",
      "weighted avg       0.79      0.83      0.77      1914\n",
      "\n",
      "0.8349007314524556\n",
      "              precision    recall  f1-score   support\n",
      "\n",
      "           0       0.85      1.00      0.92      1622\n",
      "           1       0.50      0.02      0.04       292\n",
      "\n",
      "    accuracy                           0.85      1914\n",
      "   macro avg       0.67      0.51      0.48      1914\n",
      "weighted avg       0.80      0.85      0.78      1914\n",
      "\n",
      "0.8474399164054337\n",
      "              precision    recall  f1-score   support\n",
      "\n",
      "           0       0.86      1.00      0.92      1647\n",
      "           1       0.46      0.02      0.04       267\n",
      "\n",
      "    accuracy                           0.86      1914\n",
      "   macro avg       0.66      0.51      0.48      1914\n",
      "weighted avg       0.81      0.86      0.80      1914\n",
      "\n",
      "0.8599791013584117\n",
      "              precision    recall  f1-score   support\n",
      "\n",
      "           0       0.84      0.99      0.91      1608\n",
      "           1       0.53      0.03      0.06       306\n",
      "\n",
      "    accuracy                           0.84      1914\n",
      "   macro avg       0.69      0.51      0.49      1914\n",
      "weighted avg       0.79      0.84      0.78      1914\n",
      "\n",
      "0.8406478578892372\n",
      "              precision    recall  f1-score   support\n",
      "\n",
      "           0       0.86      1.00      0.92      1635\n",
      "           1       0.55      0.02      0.04       279\n",
      "\n",
      "    accuracy                           0.85      1914\n",
      "   macro avg       0.70      0.51      0.48      1914\n",
      "weighted avg       0.81      0.85      0.79      1914\n",
      "\n",
      "0.8547544409613375\n",
      "              precision    recall  f1-score   support\n",
      "\n",
      "           0       0.85      0.99      0.92      1625\n",
      "           1       0.34      0.03      0.06       289\n",
      "\n",
      "    accuracy                           0.84      1914\n",
      "   macro avg       0.60      0.51      0.49      1914\n",
      "weighted avg       0.78      0.84      0.79      1914\n",
      "\n",
      "0.8443051201671892\n",
      "              precision    recall  f1-score   support\n",
      "\n",
      "           0       0.84      1.00      0.91      1604\n",
      "           1       0.44      0.01      0.03       310\n",
      "\n",
      "    accuracy                           0.84      1914\n",
      "   macro avg       0.64      0.50      0.47      1914\n",
      "weighted avg       0.78      0.84      0.77      1914\n",
      "\n",
      "0.8375130616509927\n",
      "              precision    recall  f1-score   support\n",
      "\n",
      "           0       0.83      1.00      0.91      1584\n",
      "           1       0.67      0.02      0.05       330\n",
      "\n",
      "    accuracy                           0.83      1914\n",
      "   macro avg       0.75      0.51      0.48      1914\n",
      "weighted avg       0.80      0.83      0.76      1914\n",
      "\n",
      "0.8296760710553814\n",
      "              precision    recall  f1-score   support\n",
      "\n",
      "           0       0.85      1.00      0.92      1622\n",
      "           1       0.56      0.02      0.03       292\n",
      "\n",
      "    accuracy                           0.85      1914\n",
      "   macro avg       0.70      0.51      0.48      1914\n",
      "weighted avg       0.80      0.85      0.78      1914\n",
      "\n",
      "0.8479623824451411\n",
      "              precision    recall  f1-score   support\n",
      "\n",
      "           0       0.83      0.99      0.90      1588\n",
      "           1       0.29      0.01      0.02       326\n",
      "\n",
      "    accuracy                           0.83      1914\n",
      "   macro avg       0.56      0.50      0.46      1914\n",
      "weighted avg       0.74      0.83      0.75      1914\n",
      "\n",
      "0.8265412748171369\n"
     ]
    }
   ],
   "source": [
    "# Random Forest\n",
    "for i in range(10):\n",
    "    x_train, x_test, y_train, y_test = train_test_split(df7, df6['not.fully.paid'], test_size=0.2, random_state = random.randint(1,1000))\n",
    "    \n",
    "    rfc = RandomForestClassifier(n_estimators=100,criterion='gini')\n",
    "    rfc.fit(x_train, y_train)\n",
    "\n",
    "    rfc_pred = rfc.predict(x_test)\n",
    "    print(classification_report(y_test, rfc_pred))\n",
    "    print(accuracy_score(y_test, rfc_pred))"
   ]
  },
  {
   "cell_type": "markdown",
   "metadata": {},
   "source": [
    "### Overall, support vector machine yield the best result in terms of f1 scores.\n",
    "### The improvement I can think of is to build the model for each \"purpose\". Because borrowers in different \"purpose\" categories thends to have different ranges of each features. Then we can get more accurate result by removing more outliers by each category.  "
   ]
  },
  {
   "cell_type": "markdown",
   "metadata": {},
   "source": [
    "* this is the end of the report."
   ]
  }
 ],
 "metadata": {
  "kernelspec": {
   "display_name": "Python 3",
   "language": "python",
   "name": "python3"
  },
  "language_info": {
   "codemirror_mode": {
    "name": "ipython",
    "version": 3
   },
   "file_extension": ".py",
   "mimetype": "text/x-python",
   "name": "python",
   "nbconvert_exporter": "python",
   "pygments_lexer": "ipython3",
   "version": "3.8.3"
  }
 },
 "nbformat": 4,
 "nbformat_minor": 2
}
